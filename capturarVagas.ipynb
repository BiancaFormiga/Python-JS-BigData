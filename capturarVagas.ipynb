{
  "nbformat": 4,
  "nbformat_minor": 0,
  "metadata": {
    "colab": {
      "provenance": [],
      "authorship_tag": "ABX9TyObfdi9CSduEdN+52QWpm9z",
      "include_colab_link": true
    },
    "kernelspec": {
      "name": "python3",
      "display_name": "Python 3"
    },
    "language_info": {
      "name": "python"
    }
  },
  "cells": [
    {
      "cell_type": "markdown",
      "metadata": {
        "id": "view-in-github",
        "colab_type": "text"
      },
      "source": [
        "<a href=\"https://colab.research.google.com/github/BiancaFormiga/Python-JS-BigData/blob/Aula-03/capturarVagas.ipynb\" target=\"_parent\"><img src=\"https://colab.research.google.com/assets/colab-badge.svg\" alt=\"Open In Colab\"/></a>"
      ]
    },
    {
      "cell_type": "code",
      "execution_count": null,
      "metadata": {
        "id": "A8oGqCAv1g7L"
      },
      "outputs": [],
      "source": [
        "import cv2 # import de biblioteca OpenCV\n",
        "import pickle # import da biblioteca pkl para gravar os modelos ML\n",
        "\n",
        "#Coleta de dados origem da Imagem a ser rotulado..\n",
        "img = cv2.imread('estacionamento.png')\n",
        "\n",
        "vagas = [] #Objeto Dicionário para armazenar posições das vagas do estacionamento\n",
        "\n",
        "for x in range(69): # fazer laço de 69 vezes para gravar todas as vagas\n",
        "    vaga = cv2.selectROI('vagas',img,False)\n",
        "    cv2.destroyWindow('vagas')\n",
        "    vagas.append(vaga)\n",
        "\n",
        "\n",
        "    for x,y,w,h in vagas:# fazer o laço de seleção com o retângulo de cada vaga\n",
        "\n",
        "        cv2.rectangle(img,(x,y),(x+w, y+h),(255,0,0),2)\n",
        "\n",
        "#Criar o modelo de machine learnig novo de arquivo.pkl para poder usar posteriormente\n",
        "with open('vagas1123.pkl','wb') as arquivo:\n",
        "    pickle.dump(vagas,arquivo)"
      ]
    }
  ]
}