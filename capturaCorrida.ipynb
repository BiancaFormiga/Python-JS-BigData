{
  "nbformat": 4,
  "nbformat_minor": 0,
  "metadata": {
    "colab": {
      "provenance": [],
      "authorship_tag": "ABX9TyOAkMDzwvM8ELW8+2nEJRsS",
      "include_colab_link": true
    },
    "kernelspec": {
      "name": "python3",
      "display_name": "Python 3"
    },
    "language_info": {
      "name": "python"
    }
  },
  "cells": [
    {
      "cell_type": "markdown",
      "metadata": {
        "id": "view-in-github",
        "colab_type": "text"
      },
      "source": [
        "<a href=\"https://colab.research.google.com/github/BiancaFormiga/Python-JS-BigData/blob/Aula-03/capturaCorrida.ipynb\" target=\"_parent\"><img src=\"https://colab.research.google.com/assets/colab-badge.svg\" alt=\"Open In Colab\"/></a>"
      ]
    },
    {
      "cell_type": "code",
      "execution_count": null,
      "metadata": {
        "id": "xgPlm0-ML_-d"
      },
      "outputs": [],
      "source": [
        "import cv2\n",
        "import mediapipe as mp\n",
        "\n",
        "video = cv2.VideoCapture('corrida.mov')\n",
        "pose = mp.solutions.pose\n",
        "Pose = pose.Pose(min_tracking_confidence=0.5, min_detection_confidence=0.5)\n",
        "draw = mp.solutions.drawing_utils\n",
        "\n",
        "\n",
        "while True:\n",
        "    sucess,img = video.read()\n",
        "    img = cv2.resize(img, (980, 600))\n",
        "    videoRGB = cv2.cvtColor(img, cv2.COLOR_BGR2RGB)\n",
        "    results = Pose.process(videoRGB)\n",
        "    points = results.pose_landmarks\n",
        "    draw.draw_landmarks(img, points, pose.POSE_CONNECTIONS)\n",
        "\n",
        "\n",
        "    cv2.imshow('Resultado',img)\n",
        "    cv2.waitKey(40)"
      ]
    }
  ]
}