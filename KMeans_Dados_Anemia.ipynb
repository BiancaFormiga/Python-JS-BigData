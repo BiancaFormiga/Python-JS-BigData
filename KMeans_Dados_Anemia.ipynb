{
  "nbformat": 4,
  "nbformat_minor": 0,
  "metadata": {
    "colab": {
      "provenance": [],
      "authorship_tag": "ABX9TyOxk4CYSbJq5CEZdiivqBgg",
      "include_colab_link": true
    },
    "kernelspec": {
      "name": "python3",
      "display_name": "Python 3"
    },
    "language_info": {
      "name": "python"
    }
  },
  "cells": [
    {
      "cell_type": "markdown",
      "metadata": {
        "id": "view-in-github",
        "colab_type": "text"
      },
      "source": [
        "<a href=\"https://colab.research.google.com/github/BiancaFormiga/Python-JS-BigData/blob/Aula-01/KMeans_Dados_Anemia.ipynb\" target=\"_parent\"><img src=\"https://colab.research.google.com/assets/colab-badge.svg\" alt=\"Open In Colab\"/></a>"
      ]
    },
    {
      "cell_type": "code",
      "execution_count": 1,
      "metadata": {
        "colab": {
          "base_uri": "https://localhost:8080/",
          "height": 206
        },
        "id": "NIoTiRk-j3aa",
        "outputId": "37f94a00-35f1-4254-d502-fc83ea34f8f2"
      },
      "outputs": [
        {
          "output_type": "execute_result",
          "data": {
            "text/plain": [
              "   Number Sex  %Red Pixel  %Green pixel  %Blue pixel    Hb  Anaemic\n",
              "0       1   M     43.2555       30.8421      25.9025   6.3        1\n",
              "1       2   F     45.6033       28.1900      26.2067  13.5        0\n",
              "2       3  F      45.0107       28.9677      26.0215  11.7        0\n",
              "3       4   F     44.5398       28.9899      26.4703  13.5        0\n",
              "4       5  M      43.2870       30.6972      26.0158  12.4        0"
            ],
            "text/html": [
              "\n",
              "  <div id=\"df-3344354b-cf83-4611-a628-14fc67c0d09a\" class=\"colab-df-container\">\n",
              "    <div>\n",
              "<style scoped>\n",
              "    .dataframe tbody tr th:only-of-type {\n",
              "        vertical-align: middle;\n",
              "    }\n",
              "\n",
              "    .dataframe tbody tr th {\n",
              "        vertical-align: top;\n",
              "    }\n",
              "\n",
              "    .dataframe thead th {\n",
              "        text-align: right;\n",
              "    }\n",
              "</style>\n",
              "<table border=\"1\" class=\"dataframe\">\n",
              "  <thead>\n",
              "    <tr style=\"text-align: right;\">\n",
              "      <th></th>\n",
              "      <th>Number</th>\n",
              "      <th>Sex</th>\n",
              "      <th>%Red Pixel</th>\n",
              "      <th>%Green pixel</th>\n",
              "      <th>%Blue pixel</th>\n",
              "      <th>Hb</th>\n",
              "      <th>Anaemic</th>\n",
              "    </tr>\n",
              "  </thead>\n",
              "  <tbody>\n",
              "    <tr>\n",
              "      <th>0</th>\n",
              "      <td>1</td>\n",
              "      <td>M</td>\n",
              "      <td>43.2555</td>\n",
              "      <td>30.8421</td>\n",
              "      <td>25.9025</td>\n",
              "      <td>6.3</td>\n",
              "      <td>1</td>\n",
              "    </tr>\n",
              "    <tr>\n",
              "      <th>1</th>\n",
              "      <td>2</td>\n",
              "      <td>F</td>\n",
              "      <td>45.6033</td>\n",
              "      <td>28.1900</td>\n",
              "      <td>26.2067</td>\n",
              "      <td>13.5</td>\n",
              "      <td>0</td>\n",
              "    </tr>\n",
              "    <tr>\n",
              "      <th>2</th>\n",
              "      <td>3</td>\n",
              "      <td>F</td>\n",
              "      <td>45.0107</td>\n",
              "      <td>28.9677</td>\n",
              "      <td>26.0215</td>\n",
              "      <td>11.7</td>\n",
              "      <td>0</td>\n",
              "    </tr>\n",
              "    <tr>\n",
              "      <th>3</th>\n",
              "      <td>4</td>\n",
              "      <td>F</td>\n",
              "      <td>44.5398</td>\n",
              "      <td>28.9899</td>\n",
              "      <td>26.4703</td>\n",
              "      <td>13.5</td>\n",
              "      <td>0</td>\n",
              "    </tr>\n",
              "    <tr>\n",
              "      <th>4</th>\n",
              "      <td>5</td>\n",
              "      <td>M</td>\n",
              "      <td>43.2870</td>\n",
              "      <td>30.6972</td>\n",
              "      <td>26.0158</td>\n",
              "      <td>12.4</td>\n",
              "      <td>0</td>\n",
              "    </tr>\n",
              "  </tbody>\n",
              "</table>\n",
              "</div>\n",
              "    <div class=\"colab-df-buttons\">\n",
              "\n",
              "  <div class=\"colab-df-container\">\n",
              "    <button class=\"colab-df-convert\" onclick=\"convertToInteractive('df-3344354b-cf83-4611-a628-14fc67c0d09a')\"\n",
              "            title=\"Convert this dataframe to an interactive table.\"\n",
              "            style=\"display:none;\">\n",
              "\n",
              "  <svg xmlns=\"http://www.w3.org/2000/svg\" height=\"24px\" viewBox=\"0 -960 960 960\">\n",
              "    <path d=\"M120-120v-720h720v720H120Zm60-500h600v-160H180v160Zm220 220h160v-160H400v160Zm0 220h160v-160H400v160ZM180-400h160v-160H180v160Zm440 0h160v-160H620v160ZM180-180h160v-160H180v160Zm440 0h160v-160H620v160Z\"/>\n",
              "  </svg>\n",
              "    </button>\n",
              "\n",
              "  <style>\n",
              "    .colab-df-container {\n",
              "      display:flex;\n",
              "      gap: 12px;\n",
              "    }\n",
              "\n",
              "    .colab-df-convert {\n",
              "      background-color: #E8F0FE;\n",
              "      border: none;\n",
              "      border-radius: 50%;\n",
              "      cursor: pointer;\n",
              "      display: none;\n",
              "      fill: #1967D2;\n",
              "      height: 32px;\n",
              "      padding: 0 0 0 0;\n",
              "      width: 32px;\n",
              "    }\n",
              "\n",
              "    .colab-df-convert:hover {\n",
              "      background-color: #E2EBFA;\n",
              "      box-shadow: 0px 1px 2px rgba(60, 64, 67, 0.3), 0px 1px 3px 1px rgba(60, 64, 67, 0.15);\n",
              "      fill: #174EA6;\n",
              "    }\n",
              "\n",
              "    .colab-df-buttons div {\n",
              "      margin-bottom: 4px;\n",
              "    }\n",
              "\n",
              "    [theme=dark] .colab-df-convert {\n",
              "      background-color: #3B4455;\n",
              "      fill: #D2E3FC;\n",
              "    }\n",
              "\n",
              "    [theme=dark] .colab-df-convert:hover {\n",
              "      background-color: #434B5C;\n",
              "      box-shadow: 0px 1px 3px 1px rgba(0, 0, 0, 0.15);\n",
              "      filter: drop-shadow(0px 1px 2px rgba(0, 0, 0, 0.3));\n",
              "      fill: #FFFFFF;\n",
              "    }\n",
              "  </style>\n",
              "\n",
              "    <script>\n",
              "      const buttonEl =\n",
              "        document.querySelector('#df-3344354b-cf83-4611-a628-14fc67c0d09a button.colab-df-convert');\n",
              "      buttonEl.style.display =\n",
              "        google.colab.kernel.accessAllowed ? 'block' : 'none';\n",
              "\n",
              "      async function convertToInteractive(key) {\n",
              "        const element = document.querySelector('#df-3344354b-cf83-4611-a628-14fc67c0d09a');\n",
              "        const dataTable =\n",
              "          await google.colab.kernel.invokeFunction('convertToInteractive',\n",
              "                                                    [key], {});\n",
              "        if (!dataTable) return;\n",
              "\n",
              "        const docLinkHtml = 'Like what you see? Visit the ' +\n",
              "          '<a target=\"_blank\" href=https://colab.research.google.com/notebooks/data_table.ipynb>data table notebook</a>'\n",
              "          + ' to learn more about interactive tables.';\n",
              "        element.innerHTML = '';\n",
              "        dataTable['output_type'] = 'display_data';\n",
              "        await google.colab.output.renderOutput(dataTable, element);\n",
              "        const docLink = document.createElement('div');\n",
              "        docLink.innerHTML = docLinkHtml;\n",
              "        element.appendChild(docLink);\n",
              "      }\n",
              "    </script>\n",
              "  </div>\n",
              "\n",
              "\n",
              "<div id=\"df-62738553-4b9b-4a2b-b57f-e28d5877ceb5\">\n",
              "  <button class=\"colab-df-quickchart\" onclick=\"quickchart('df-62738553-4b9b-4a2b-b57f-e28d5877ceb5')\"\n",
              "            title=\"Suggest charts\"\n",
              "            style=\"display:none;\">\n",
              "\n",
              "<svg xmlns=\"http://www.w3.org/2000/svg\" height=\"24px\"viewBox=\"0 0 24 24\"\n",
              "     width=\"24px\">\n",
              "    <g>\n",
              "        <path d=\"M19 3H5c-1.1 0-2 .9-2 2v14c0 1.1.9 2 2 2h14c1.1 0 2-.9 2-2V5c0-1.1-.9-2-2-2zM9 17H7v-7h2v7zm4 0h-2V7h2v10zm4 0h-2v-4h2v4z\"/>\n",
              "    </g>\n",
              "</svg>\n",
              "  </button>\n",
              "\n",
              "<style>\n",
              "  .colab-df-quickchart {\n",
              "      --bg-color: #E8F0FE;\n",
              "      --fill-color: #1967D2;\n",
              "      --hover-bg-color: #E2EBFA;\n",
              "      --hover-fill-color: #174EA6;\n",
              "      --disabled-fill-color: #AAA;\n",
              "      --disabled-bg-color: #DDD;\n",
              "  }\n",
              "\n",
              "  [theme=dark] .colab-df-quickchart {\n",
              "      --bg-color: #3B4455;\n",
              "      --fill-color: #D2E3FC;\n",
              "      --hover-bg-color: #434B5C;\n",
              "      --hover-fill-color: #FFFFFF;\n",
              "      --disabled-bg-color: #3B4455;\n",
              "      --disabled-fill-color: #666;\n",
              "  }\n",
              "\n",
              "  .colab-df-quickchart {\n",
              "    background-color: var(--bg-color);\n",
              "    border: none;\n",
              "    border-radius: 50%;\n",
              "    cursor: pointer;\n",
              "    display: none;\n",
              "    fill: var(--fill-color);\n",
              "    height: 32px;\n",
              "    padding: 0;\n",
              "    width: 32px;\n",
              "  }\n",
              "\n",
              "  .colab-df-quickchart:hover {\n",
              "    background-color: var(--hover-bg-color);\n",
              "    box-shadow: 0 1px 2px rgba(60, 64, 67, 0.3), 0 1px 3px 1px rgba(60, 64, 67, 0.15);\n",
              "    fill: var(--button-hover-fill-color);\n",
              "  }\n",
              "\n",
              "  .colab-df-quickchart-complete:disabled,\n",
              "  .colab-df-quickchart-complete:disabled:hover {\n",
              "    background-color: var(--disabled-bg-color);\n",
              "    fill: var(--disabled-fill-color);\n",
              "    box-shadow: none;\n",
              "  }\n",
              "\n",
              "  .colab-df-spinner {\n",
              "    border: 2px solid var(--fill-color);\n",
              "    border-color: transparent;\n",
              "    border-bottom-color: var(--fill-color);\n",
              "    animation:\n",
              "      spin 1s steps(1) infinite;\n",
              "  }\n",
              "\n",
              "  @keyframes spin {\n",
              "    0% {\n",
              "      border-color: transparent;\n",
              "      border-bottom-color: var(--fill-color);\n",
              "      border-left-color: var(--fill-color);\n",
              "    }\n",
              "    20% {\n",
              "      border-color: transparent;\n",
              "      border-left-color: var(--fill-color);\n",
              "      border-top-color: var(--fill-color);\n",
              "    }\n",
              "    30% {\n",
              "      border-color: transparent;\n",
              "      border-left-color: var(--fill-color);\n",
              "      border-top-color: var(--fill-color);\n",
              "      border-right-color: var(--fill-color);\n",
              "    }\n",
              "    40% {\n",
              "      border-color: transparent;\n",
              "      border-right-color: var(--fill-color);\n",
              "      border-top-color: var(--fill-color);\n",
              "    }\n",
              "    60% {\n",
              "      border-color: transparent;\n",
              "      border-right-color: var(--fill-color);\n",
              "    }\n",
              "    80% {\n",
              "      border-color: transparent;\n",
              "      border-right-color: var(--fill-color);\n",
              "      border-bottom-color: var(--fill-color);\n",
              "    }\n",
              "    90% {\n",
              "      border-color: transparent;\n",
              "      border-bottom-color: var(--fill-color);\n",
              "    }\n",
              "  }\n",
              "</style>\n",
              "\n",
              "  <script>\n",
              "    async function quickchart(key) {\n",
              "      const quickchartButtonEl =\n",
              "        document.querySelector('#' + key + ' button');\n",
              "      quickchartButtonEl.disabled = true;  // To prevent multiple clicks.\n",
              "      quickchartButtonEl.classList.add('colab-df-spinner');\n",
              "      try {\n",
              "        const charts = await google.colab.kernel.invokeFunction(\n",
              "            'suggestCharts', [key], {});\n",
              "      } catch (error) {\n",
              "        console.error('Error during call to suggestCharts:', error);\n",
              "      }\n",
              "      quickchartButtonEl.classList.remove('colab-df-spinner');\n",
              "      quickchartButtonEl.classList.add('colab-df-quickchart-complete');\n",
              "    }\n",
              "    (() => {\n",
              "      let quickchartButtonEl =\n",
              "        document.querySelector('#df-62738553-4b9b-4a2b-b57f-e28d5877ceb5 button');\n",
              "      quickchartButtonEl.style.display =\n",
              "        google.colab.kernel.accessAllowed ? 'block' : 'none';\n",
              "    })();\n",
              "  </script>\n",
              "</div>\n",
              "\n",
              "    </div>\n",
              "  </div>\n"
            ],
            "application/vnd.google.colaboratory.intrinsic+json": {
              "type": "dataframe",
              "variable_name": "df_anemia",
              "summary": "{\n  \"name\": \"df_anemia\",\n  \"rows\": 104,\n  \"fields\": [\n    {\n      \"column\": \"Number\",\n      \"properties\": {\n        \"dtype\": \"number\",\n        \"std\": 30,\n        \"min\": 1,\n        \"max\": 104,\n        \"num_unique_values\": 104,\n        \"samples\": [\n          31,\n          66,\n          65\n        ],\n        \"semantic_type\": \"\",\n        \"description\": \"\"\n      }\n    },\n    {\n      \"column\": \"Sex\",\n      \"properties\": {\n        \"dtype\": \"category\",\n        \"num_unique_values\": 4,\n        \"samples\": [\n          \"F\",\n          \"M \",\n          \"M\"\n        ],\n        \"semantic_type\": \"\",\n        \"description\": \"\"\n      }\n    },\n    {\n      \"column\": \"%Red Pixel\",\n      \"properties\": {\n        \"dtype\": \"number\",\n        \"std\": 2.8162939069011497,\n        \"min\": 38.7968,\n        \"max\": 54.6478,\n        \"num_unique_values\": 103,\n        \"samples\": [\n          44.2572,\n          42.5892,\n          45.8483\n        ],\n        \"semantic_type\": \"\",\n        \"description\": \"\"\n      }\n    },\n    {\n      \"column\": \"%Green pixel\",\n      \"properties\": {\n        \"dtype\": \"number\",\n        \"std\": 1.5542751246668463,\n        \"min\": 25.1403,\n        \"max\": 32.3681,\n        \"num_unique_values\": 103,\n        \"samples\": [\n          29.6578,\n          31.5405,\n          27.2043\n        ],\n        \"semantic_type\": \"\",\n        \"description\": \"\"\n      }\n    },\n    {\n      \"column\": \"%Blue pixel\",\n      \"properties\": {\n        \"dtype\": \"number\",\n        \"std\": 1.9846714900084665,\n        \"min\": 19.5413,\n        \"max\": 29.8414,\n        \"num_unique_values\": 103,\n        \"samples\": [\n          26.085,\n          25.8703,\n          26.9474\n        ],\n        \"semantic_type\": \"\",\n        \"description\": \"\"\n      }\n    },\n    {\n      \"column\": \"Hb\",\n      \"properties\": {\n        \"dtype\": \"number\",\n        \"std\": 2.512956530220567,\n        \"min\": 2.8,\n        \"max\": 16.3,\n        \"num_unique_values\": 62,\n        \"samples\": [\n          11.1,\n          16.0,\n          6.3\n        ],\n        \"semantic_type\": \"\",\n        \"description\": \"\"\n      }\n    },\n    {\n      \"column\": \"Anaemic\",\n      \"properties\": {\n        \"dtype\": \"number\",\n        \"std\": 0,\n        \"min\": 0,\n        \"max\": 1,\n        \"num_unique_values\": 2,\n        \"samples\": [\n          0,\n          1\n        ],\n        \"semantic_type\": \"\",\n        \"description\": \"\"\n      }\n    }\n  ]\n}"
            }
          },
          "metadata": {},
          "execution_count": 1
        }
      ],
      "source": [
        "import pandas as pd\n",
        "df_anemia = pd.read_csv(\"output.csv\")\n",
        "df_anemia.head()"
      ]
    },
    {
      "cell_type": "code",
      "source": [
        "X = df_anemia.iloc[:, 2:6].values\n",
        "X"
      ],
      "metadata": {
        "colab": {
          "base_uri": "https://localhost:8080/"
        },
        "id": "yXageIupk120",
        "outputId": "9aa9b2eb-a6ed-49d0-993c-4b9773a8c033"
      },
      "execution_count": 6,
      "outputs": [
        {
          "output_type": "execute_result",
          "data": {
            "text/plain": [
              "array([[43.2555, 30.8421, 25.9025,  6.3   ],\n",
              "       [45.6033, 28.19  , 26.2067, 13.5   ],\n",
              "       [45.0107, 28.9677, 26.0215, 11.7   ],\n",
              "       [44.5398, 28.9899, 26.4703, 13.5   ],\n",
              "       [43.287 , 30.6972, 26.0158, 12.4   ],\n",
              "       [45.0994, 27.9645, 26.9361, 16.2   ],\n",
              "       [43.1457, 30.1628, 26.6915,  8.6   ],\n",
              "       [43.6103, 29.1099, 27.2798, 10.3   ],\n",
              "       [45.0423, 29.166 , 25.7918, 13.    ],\n",
              "       [46.5143, 27.4282, 26.0575,  9.7   ],\n",
              "       [45.3506, 29.1248, 25.5246, 12.6   ],\n",
              "       [44.4062, 28.9298, 26.664 , 15.4   ],\n",
              "       [44.9642, 30.5279, 24.5079,  4.8   ],\n",
              "       [45.0484, 31.1049, 23.8467,  9.    ],\n",
              "       [46.9942, 26.0496, 26.9562, 14.6   ],\n",
              "       [45.5842, 28.7311, 25.6848, 14.    ],\n",
              "       [42.5358, 30.1604, 27.3039, 10.    ],\n",
              "       [44.0957, 29.9973, 25.907 ,  8.3   ],\n",
              "       [45.7104, 27.5693, 26.7204, 13.6   ],\n",
              "       [40.9365, 31.9687, 27.0948,  9.9   ],\n",
              "       [44.9116, 30.3761, 24.7123, 11.6   ],\n",
              "       [43.4225, 29.7889, 26.7886, 12.4   ],\n",
              "       [43.3019, 29.8285, 26.8697, 12.1   ],\n",
              "       [47.6372, 26.7953, 25.5675, 15.1   ],\n",
              "       [45.6906, 30.0735, 24.2359,  9.1   ],\n",
              "       [43.4098, 31.2315, 25.3586, 12.9   ],\n",
              "       [44.4252, 28.7436, 26.8312, 14.7   ],\n",
              "       [44.3297, 28.7617, 26.9086, 14.1   ],\n",
              "       [47.8913, 27.0952, 25.0135, 14.6   ],\n",
              "       [42.2473, 30.2089, 27.5438, 13.7   ],\n",
              "       [44.2572, 29.6578, 26.085 , 12.9   ],\n",
              "       [48.6358, 26.6982, 24.666 , 15.    ],\n",
              "       [42.1652, 29.3907, 28.4441, 13.4   ],\n",
              "       [45.4434, 28.3301, 26.2265, 14.5   ],\n",
              "       [42.1528, 30.432 , 27.4152, 13.7   ],\n",
              "       [45.2588, 28.0079, 26.7333, 12.6   ],\n",
              "       [46.4081, 28.1641, 25.4278, 13.5   ],\n",
              "       [47.2275, 28.2526, 24.5199, 12.8   ],\n",
              "       [47.3642, 27.473 , 25.1628, 11.8   ],\n",
              "       [46.1449, 27.7085, 26.1466, 14.1   ],\n",
              "       [41.7122, 30.1452, 28.1426, 10.9   ],\n",
              "       [47.9777, 26.7981, 25.2242, 16.3   ],\n",
              "       [46.7628, 28.018 , 25.2192, 15.2   ],\n",
              "       [44.9526, 28.4671, 26.5803, 13.1   ],\n",
              "       [44.1868, 28.9764, 26.8368, 14.1   ],\n",
              "       [46.9428, 27.2219, 25.8353, 13.3   ],\n",
              "       [48.8523, 26.2003, 24.9474, 14.1   ],\n",
              "       [45.7581, 27.2867, 26.9553, 11.8   ],\n",
              "       [48.5356, 26.4917, 24.9727, 15.6   ],\n",
              "       [45.5833, 27.6916, 26.7252, 11.7   ],\n",
              "       [45.9659, 28.4015, 25.6326, 13.    ],\n",
              "       [44.0418, 28.5164, 27.4418, 11.9   ],\n",
              "       [43.9633, 28.5978, 27.439 , 13.4   ],\n",
              "       [47.1003, 28.3195, 24.5801, 12.4   ],\n",
              "       [46.0477, 28.6476, 25.3047, 14.4   ],\n",
              "       [46.2133, 28.3358, 25.4509, 13.    ],\n",
              "       [49.1475, 28.2711, 22.5813, 12.6   ],\n",
              "       [45.7986, 27.7309, 26.4706, 13.    ],\n",
              "       [40.6395, 32.1891, 27.1714,  2.8   ],\n",
              "       [50.3562, 29.2206, 20.4232, 11.9   ],\n",
              "       [43.9224, 29.8338, 26.2437, 12.1   ],\n",
              "       [45.0693, 29.8506, 25.0801, 10.    ],\n",
              "       [45.8483, 27.2043, 26.9474, 15.5   ],\n",
              "       [43.4837, 30.7106, 25.8057, 10.5   ],\n",
              "       [38.7968, 31.3618, 29.8414,  8.5   ],\n",
              "       [45.4201, 29.4684, 25.1115, 12.    ],\n",
              "       [44.1609, 29.5993, 26.2399,  9.5   ],\n",
              "       [44.1609, 29.5993, 26.2399, 12.5   ],\n",
              "       [42.5892, 31.5405, 25.8703,  9.    ],\n",
              "       [46.9597, 28.4993, 24.541 ,  8.4   ],\n",
              "       [44.1995, 29.486 , 26.3145, 11.2   ],\n",
              "       [41.133 , 32.3681, 26.4989, 10.    ],\n",
              "       [52.9108, 26.7881, 20.301 , 11.5   ],\n",
              "       [50.4976, 28.8065, 20.696 , 11.1   ],\n",
              "       [44.72  , 28.0357, 27.2443, 14.    ],\n",
              "       [53.9113, 26.3455, 19.7433, 14.5   ],\n",
              "       [49.5899, 28.9754, 21.4347,  9.9   ],\n",
              "       [45.9707, 30.9397, 23.0896,  8.7   ],\n",
              "       [42.4532, 30.9448, 26.602 ,  9.2   ],\n",
              "       [44.3346, 30.4043, 25.2611,  8.    ],\n",
              "       [43.8783, 29.4752, 26.6465, 14.1   ],\n",
              "       [42.8269, 29.0594, 28.1137, 12.7   ],\n",
              "       [43.1335, 29.3459, 27.5206, 10.4   ],\n",
              "       [45.4735, 27.9181, 26.6084, 16.    ],\n",
              "       [50.4801, 25.1403, 24.3796, 11.5   ],\n",
              "       [46.255 , 27.2758, 26.4692, 11.    ],\n",
              "       [46.7979, 28.1768, 25.0253, 14.    ],\n",
              "       [46.5811, 29.7082, 23.7107, 11.3   ],\n",
              "       [54.6478, 25.8109, 19.5413, 15.2   ],\n",
              "       [48.8763, 29.4806, 21.6431, 12.5   ],\n",
              "       [46.3745, 28.882 , 24.7435, 10.7   ],\n",
              "       [43.1425, 30.289 , 26.5686,  9.5   ],\n",
              "       [49.5037, 26.7716, 23.7246, 14.5   ],\n",
              "       [47.7549, 26.2457, 25.9994, 15.2   ],\n",
              "       [42.5314, 30.9742, 26.4944,  8.7   ],\n",
              "       [52.154 , 26.0853, 21.7607, 16.    ],\n",
              "       [51.5802, 28.2678, 20.152 , 13.2   ],\n",
              "       [48.3681, 26.922 , 24.7099, 12.5   ],\n",
              "       [47.326 , 27.278 , 25.396 , 13.    ],\n",
              "       [49.9999, 29.286 , 20.7141, 14.5   ],\n",
              "       [42.2324, 30.6757, 27.0919,  6.3   ],\n",
              "       [45.6064, 31.9084, 22.4852, 12.7   ],\n",
              "       [45.2095, 29.2769, 25.5136, 13.4   ],\n",
              "       [43.5706, 29.8094, 26.6199, 12.2   ]])"
            ]
          },
          "metadata": {},
          "execution_count": 6
        }
      ]
    },
    {
      "cell_type": "code",
      "source": [
        "from sklearn.cluster import KMeans"
      ],
      "metadata": {
        "id": "47mHVAaPldcp"
      },
      "execution_count": 7,
      "outputs": []
    },
    {
      "cell_type": "code",
      "source": [
        "kmeans = KMeans(n_clusters = 2, init = 'random')"
      ],
      "metadata": {
        "id": "0sWzKZzNlgOu"
      },
      "execution_count": 12,
      "outputs": []
    },
    {
      "cell_type": "code",
      "source": [
        "kmeans.fit(X)"
      ],
      "metadata": {
        "colab": {
          "base_uri": "https://localhost:8080/",
          "height": 129
        },
        "id": "epnJuSJDlpr7",
        "outputId": "7944546e-ba45-4a12-a8c2-9709d0abd317"
      },
      "execution_count": 13,
      "outputs": [
        {
          "output_type": "stream",
          "name": "stderr",
          "text": [
            "/usr/local/lib/python3.10/dist-packages/sklearn/cluster/_kmeans.py:1416: FutureWarning: The default value of `n_init` will change from 10 to 'auto' in 1.4. Set the value of `n_init` explicitly to suppress the warning\n",
            "  super()._check_params_vs_input(X, default_n_init=10)\n"
          ]
        },
        {
          "output_type": "execute_result",
          "data": {
            "text/plain": [
              "KMeans(init='random', n_clusters=2)"
            ],
            "text/html": [
              "<style>#sk-container-id-2 {color: black;}#sk-container-id-2 pre{padding: 0;}#sk-container-id-2 div.sk-toggleable {background-color: white;}#sk-container-id-2 label.sk-toggleable__label {cursor: pointer;display: block;width: 100%;margin-bottom: 0;padding: 0.3em;box-sizing: border-box;text-align: center;}#sk-container-id-2 label.sk-toggleable__label-arrow:before {content: \"▸\";float: left;margin-right: 0.25em;color: #696969;}#sk-container-id-2 label.sk-toggleable__label-arrow:hover:before {color: black;}#sk-container-id-2 div.sk-estimator:hover label.sk-toggleable__label-arrow:before {color: black;}#sk-container-id-2 div.sk-toggleable__content {max-height: 0;max-width: 0;overflow: hidden;text-align: left;background-color: #f0f8ff;}#sk-container-id-2 div.sk-toggleable__content pre {margin: 0.2em;color: black;border-radius: 0.25em;background-color: #f0f8ff;}#sk-container-id-2 input.sk-toggleable__control:checked~div.sk-toggleable__content {max-height: 200px;max-width: 100%;overflow: auto;}#sk-container-id-2 input.sk-toggleable__control:checked~label.sk-toggleable__label-arrow:before {content: \"▾\";}#sk-container-id-2 div.sk-estimator input.sk-toggleable__control:checked~label.sk-toggleable__label {background-color: #d4ebff;}#sk-container-id-2 div.sk-label input.sk-toggleable__control:checked~label.sk-toggleable__label {background-color: #d4ebff;}#sk-container-id-2 input.sk-hidden--visually {border: 0;clip: rect(1px 1px 1px 1px);clip: rect(1px, 1px, 1px, 1px);height: 1px;margin: -1px;overflow: hidden;padding: 0;position: absolute;width: 1px;}#sk-container-id-2 div.sk-estimator {font-family: monospace;background-color: #f0f8ff;border: 1px dotted black;border-radius: 0.25em;box-sizing: border-box;margin-bottom: 0.5em;}#sk-container-id-2 div.sk-estimator:hover {background-color: #d4ebff;}#sk-container-id-2 div.sk-parallel-item::after {content: \"\";width: 100%;border-bottom: 1px solid gray;flex-grow: 1;}#sk-container-id-2 div.sk-label:hover label.sk-toggleable__label {background-color: #d4ebff;}#sk-container-id-2 div.sk-serial::before {content: \"\";position: absolute;border-left: 1px solid gray;box-sizing: border-box;top: 0;bottom: 0;left: 50%;z-index: 0;}#sk-container-id-2 div.sk-serial {display: flex;flex-direction: column;align-items: center;background-color: white;padding-right: 0.2em;padding-left: 0.2em;position: relative;}#sk-container-id-2 div.sk-item {position: relative;z-index: 1;}#sk-container-id-2 div.sk-parallel {display: flex;align-items: stretch;justify-content: center;background-color: white;position: relative;}#sk-container-id-2 div.sk-item::before, #sk-container-id-2 div.sk-parallel-item::before {content: \"\";position: absolute;border-left: 1px solid gray;box-sizing: border-box;top: 0;bottom: 0;left: 50%;z-index: -1;}#sk-container-id-2 div.sk-parallel-item {display: flex;flex-direction: column;z-index: 1;position: relative;background-color: white;}#sk-container-id-2 div.sk-parallel-item:first-child::after {align-self: flex-end;width: 50%;}#sk-container-id-2 div.sk-parallel-item:last-child::after {align-self: flex-start;width: 50%;}#sk-container-id-2 div.sk-parallel-item:only-child::after {width: 0;}#sk-container-id-2 div.sk-dashed-wrapped {border: 1px dashed gray;margin: 0 0.4em 0.5em 0.4em;box-sizing: border-box;padding-bottom: 0.4em;background-color: white;}#sk-container-id-2 div.sk-label label {font-family: monospace;font-weight: bold;display: inline-block;line-height: 1.2em;}#sk-container-id-2 div.sk-label-container {text-align: center;}#sk-container-id-2 div.sk-container {/* jupyter's `normalize.less` sets `[hidden] { display: none; }` but bootstrap.min.css set `[hidden] { display: none !important; }` so we also need the `!important` here to be able to override the default hidden behavior on the sphinx rendered scikit-learn.org. See: https://github.com/scikit-learn/scikit-learn/issues/21755 */display: inline-block !important;position: relative;}#sk-container-id-2 div.sk-text-repr-fallback {display: none;}</style><div id=\"sk-container-id-2\" class=\"sk-top-container\"><div class=\"sk-text-repr-fallback\"><pre>KMeans(init=&#x27;random&#x27;, n_clusters=2)</pre><b>In a Jupyter environment, please rerun this cell to show the HTML representation or trust the notebook. <br />On GitHub, the HTML representation is unable to render, please try loading this page with nbviewer.org.</b></div><div class=\"sk-container\" hidden><div class=\"sk-item\"><div class=\"sk-estimator sk-toggleable\"><input class=\"sk-toggleable__control sk-hidden--visually\" id=\"sk-estimator-id-2\" type=\"checkbox\" checked><label for=\"sk-estimator-id-2\" class=\"sk-toggleable__label sk-toggleable__label-arrow\">KMeans</label><div class=\"sk-toggleable__content\"><pre>KMeans(init=&#x27;random&#x27;, n_clusters=2)</pre></div></div></div></div></div>"
            ]
          },
          "metadata": {},
          "execution_count": 13
        }
      ]
    },
    {
      "cell_type": "code",
      "source": [
        "kmeans.cluster_centers_"
      ],
      "metadata": {
        "colab": {
          "base_uri": "https://localhost:8080/"
        },
        "id": "-oym7MMzlqT7",
        "outputId": "36101170-f749-497d-c8d2-5e7227a05c53"
      },
      "execution_count": 14,
      "outputs": [
        {
          "output_type": "execute_result",
          "data": {
            "text/plain": [
              "array([[44.13198676, 29.61506176, 26.25296471, 11.27352941],\n",
              "       [48.52941944, 27.47856944, 23.99200556, 13.80833333]])"
            ]
          },
          "metadata": {},
          "execution_count": 14
        }
      ]
    },
    {
      "cell_type": "code",
      "source": [
        "distance = kmeans.fit_transform(X)\n",
        "distance"
      ],
      "metadata": {
        "colab": {
          "base_uri": "https://localhost:8080/"
        },
        "id": "iO2LcKdYlwuC",
        "outputId": "0a1b661a-a434-4e56-cfa5-d642776489ed"
      },
      "execution_count": 15,
      "outputs": [
        {
          "output_type": "stream",
          "name": "stderr",
          "text": [
            "/usr/local/lib/python3.10/dist-packages/sklearn/cluster/_kmeans.py:1416: FutureWarning: The default value of `n_init` will change from 10 to 'auto' in 1.4. Set the value of `n_init` explicitly to suppress the warning\n",
            "  super()._check_params_vs_input(X, default_n_init=10)\n"
          ]
        },
        {
          "output_type": "execute_result",
          "data": {
            "text/plain": [
              "array([[ 9.55878361,  4.93098487],\n",
              "       [ 3.19689616,  3.3562329 ],\n",
              "       [ 4.28450959,  1.51019858],\n",
              "       [ 4.38847365,  2.64710158],\n",
              "       [ 6.09993113,  1.79745357],\n",
              "       [ 4.71191053,  5.61600297],\n",
              "       [ 7.92838062,  2.63038589],\n",
              "       [ 6.54997316,  1.42566787],\n",
              "       [ 3.79829696,  2.37766643],\n",
              "       [ 4.67046361,  3.73115099],\n",
              "       [ 3.53888244,  2.32798135],\n",
              "       [ 4.87006861,  4.47258384],\n",
              "       [ 9.88984404,  6.62287422],\n",
              "       [ 6.619869  ,  3.64220279],\n",
              "       [ 3.40174899,  6.01206893],\n",
              "       [ 3.08504349,  3.58860582],\n",
              "       [ 7.75805092,  2.05485255],\n",
              "       [ 7.31892851,  2.787654  ],\n",
              "       [ 3.40372163,  3.82458753],\n",
              "       [ 9.61645846,  3.98033922],\n",
              "       [ 4.72539388,  2.04251176],\n",
              "       [ 5.86854021,  1.52994704],\n",
              "       [ 6.08663637,  1.35857786],\n",
              "       [ 2.10511393,  6.27992464],\n",
              "       [ 5.75260319,  3.35043932],\n",
              "       [ 6.05828052,  2.60628902],\n",
              "       [ 4.6998817 ,  3.86070304],\n",
              "       [ 4.73530437,  3.29327591],\n",
              "       [ 1.27246378,  6.08377633],\n",
              "       [ 7.16811438,  3.41417782],\n",
              "       [ 4.76486303,  1.8980812 ],\n",
              "       [ 1.71461018,  7.0529828 ],\n",
              "       [ 7.45422854,  3.66197578],\n",
              "       [ 3.44273342,  4.03067014],\n",
              "       [ 7.27159591,  3.45463414],\n",
              "       [ 3.92223408,  2.72113421],\n",
              "       [ 2.11147974,  3.92821091],\n",
              "       [ 1.42635777,  4.39792131],\n",
              "       [ 2.23648316,  4.33823147],\n",
              "       [ 2.71641188,  4.29221193],\n",
              "       [ 8.35513849,  2.9173838 ],\n",
              "       [ 2.86796405,  7.33842999],\n",
              "       [ 2.22791864,  5.4261827 ],\n",
              "       [ 4.02194305,  2.64436848],\n",
              "       [ 4.86623249,  3.20805657],\n",
              "       [ 2.01120519,  4.5558313 ],\n",
              "       [ 1.78755261,  6.92572459],\n",
              "       [ 4.04300324,  3.22568604],\n",
              "       [ 2.34235239,  7.36989675],\n",
              "       [ 4.03730107,  2.75236092],\n",
              "       [ 2.72596641,  3.19691717],\n",
              "       [ 5.515766  ,  1.8909622 ],\n",
              "       [ 5.29019805,  2.86030199],\n",
              "       [ 1.8127629 ,  4.10716092],\n",
              "       [ 2.58843045,  4.23509057],\n",
              "       [ 2.42674128,  3.42691612],\n",
              "       [ 2.38938945,  6.753783  ],\n",
              "       [ 3.24559897,  3.37851236],\n",
              "       [14.27859327,  9.24791908],\n",
              "       [ 5.09338372,  8.76259769],\n",
              "       [ 5.35500799,  1.06039736],\n",
              "       [ 5.34157861,  1.96841776],\n",
              "       [ 3.92803799,  5.51610504],\n",
              "       [ 6.58706726,  1.2891214 ],\n",
              "       [12.58469366,  6.92861755],\n",
              "       [ 3.76169482,  2.14757235],\n",
              "       [ 6.39840842,  1.56934259],\n",
              "       [ 4.96125478,  1.48231656],\n",
              "       [ 8.38736286,  3.06124676],\n",
              "       [ 5.51465426,  4.56131033],\n",
              "       [ 5.3888076 ,  0.40677009],\n",
              "       [ 9.46514216,  3.97768168],\n",
              "       [ 6.69283041, 11.20483165],\n",
              "       [ 5.19365511,  8.68159075],\n",
              "       [ 4.50845194,  3.63210694],\n",
              "       [ 7.53765423, 12.88668245],\n",
              "       [ 5.17873182,  7.58694758],\n",
              "       [ 6.48914628,  4.62114727],\n",
              "       [ 8.27981495,  2.66636751],\n",
              "       [ 7.44854676,  3.30621036],\n",
              "       [ 5.18116528,  3.08832727],\n",
              "       [ 6.73855725,  2.78201307],\n",
              "       [ 6.99856093,  1.64707839],\n",
              "       [ 4.18296769,  5.51243007],\n",
              "       [ 4.10399775,  8.24664645],\n",
              "       [ 3.95498435,  3.39817622],\n",
              "       [ 1.60883418,  4.58698595],\n",
              "       [ 3.57771545,  3.71124131],\n",
              "       [ 8.42907261, 13.90145735],\n",
              "       [ 3.54239613,  6.94950963],\n",
              "       [ 3.72104328,  3.04139768],\n",
              "       [ 7.38672961,  1.83647278],\n",
              "       [ 1.91296605,  7.64665521],\n",
              "       [ 2.67055474,  6.65210939],\n",
              "       [ 8.49475088,  2.99927954],\n",
              "       [ 5.52180924, 11.23232635],\n",
              "       [ 5.47617591, 10.15372093],\n",
              "       [ 1.49756184,  5.68437578],\n",
              "       [ 1.56472115,  4.71853689],\n",
              "       [ 4.44893295,  8.95233955],\n",
              "       [10.32070762,  5.1851809 ],\n",
              "       [ 5.36556723,  4.97338785],\n",
              "       [ 3.55169407,  2.83168394],\n",
              "       [ 5.73778189,  1.25461825]])"
            ]
          },
          "metadata": {},
          "execution_count": 15
        }
      ]
    },
    {
      "cell_type": "code",
      "source": [
        "labels = kmeans.labels_\n",
        "labels"
      ],
      "metadata": {
        "colab": {
          "base_uri": "https://localhost:8080/"
        },
        "id": "-_9A3F11lzFP",
        "outputId": "bb82fc2d-55c0-4923-8391-9ad3f6912b0e"
      },
      "execution_count": 16,
      "outputs": [
        {
          "output_type": "execute_result",
          "data": {
            "text/plain": [
              "array([1, 0, 1, 1, 1, 0, 1, 1, 1, 1, 1, 1, 1, 1, 0, 0, 1, 1, 0, 1, 1, 1,\n",
              "       1, 0, 1, 1, 1, 1, 0, 1, 1, 0, 1, 0, 1, 1, 0, 0, 0, 0, 1, 0, 0, 1,\n",
              "       1, 0, 0, 1, 0, 1, 0, 1, 1, 0, 0, 0, 0, 0, 1, 0, 1, 1, 0, 1, 1, 1,\n",
              "       1, 1, 1, 1, 1, 1, 0, 0, 1, 0, 0, 1, 1, 1, 1, 1, 1, 0, 0, 1, 0, 0,\n",
              "       0, 0, 1, 1, 0, 0, 1, 0, 0, 0, 0, 0, 1, 1, 1, 1], dtype=int32)"
            ]
          },
          "metadata": {},
          "execution_count": 16
        }
      ]
    },
    {
      "cell_type": "code",
      "source": [
        "#Utilizando o método cotovelo para identificar o valor de k (na primeira curva| será o número 2)\n",
        "\n",
        "import matplotlib.pyplot as plt\n",
        "from sklearn.cluster import KMeans\n",
        "wcss = []\n",
        "i = 0\n",
        "for i in range(1, 11):\n",
        "    kmeans = KMeans(n_clusters = i, init = 'random')\n",
        "    kmeans.fit(X)\n",
        "    print (i,kmeans.inertia_)\n",
        "    wcss.append(kmeans.inertia_)\n",
        "plt.plot(range(1, 11), wcss)\n",
        "plt.title('O Metodo Elbow')\n",
        "plt.xlabel('Numero de Clusters')\n",
        "plt.ylabel('WSS') #within cluster sum of squares\n",
        "plt.show()"
      ],
      "metadata": {
        "colab": {
          "base_uri": "https://localhost:8080/",
          "height": 1000
        },
        "id": "9yYQJ38tmGUD",
        "outputId": "d38a1b79-0dfc-4ca7-8231-267bb94465ac"
      },
      "execution_count": 20,
      "outputs": [
        {
          "output_type": "stream",
          "name": "stderr",
          "text": [
            "/usr/local/lib/python3.10/dist-packages/sklearn/cluster/_kmeans.py:1416: FutureWarning: The default value of `n_init` will change from 10 to 'auto' in 1.4. Set the value of `n_init` explicitly to suppress the warning\n",
            "  super()._check_params_vs_input(X, default_n_init=10)\n",
            "/usr/local/lib/python3.10/dist-packages/sklearn/cluster/_kmeans.py:1416: FutureWarning: The default value of `n_init` will change from 10 to 'auto' in 1.4. Set the value of `n_init` explicitly to suppress the warning\n",
            "  super()._check_params_vs_input(X, default_n_init=10)\n",
            "/usr/local/lib/python3.10/dist-packages/sklearn/cluster/_kmeans.py:1416: FutureWarning: The default value of `n_init` will change from 10 to 'auto' in 1.4. Set the value of `n_init` explicitly to suppress the warning\n",
            "  super()._check_params_vs_input(X, default_n_init=10)\n",
            "/usr/local/lib/python3.10/dist-packages/sklearn/cluster/_kmeans.py:1416: FutureWarning: The default value of `n_init` will change from 10 to 'auto' in 1.4. Set the value of `n_init` explicitly to suppress the warning\n",
            "  super()._check_params_vs_input(X, default_n_init=10)\n",
            "/usr/local/lib/python3.10/dist-packages/sklearn/cluster/_kmeans.py:1416: FutureWarning: The default value of `n_init` will change from 10 to 'auto' in 1.4. Set the value of `n_init` explicitly to suppress the warning\n",
            "  super()._check_params_vs_input(X, default_n_init=10)\n",
            "/usr/local/lib/python3.10/dist-packages/sklearn/cluster/_kmeans.py:1416: FutureWarning: The default value of `n_init` will change from 10 to 'auto' in 1.4. Set the value of `n_init` explicitly to suppress the warning\n",
            "  super()._check_params_vs_input(X, default_n_init=10)\n",
            "/usr/local/lib/python3.10/dist-packages/sklearn/cluster/_kmeans.py:1416: FutureWarning: The default value of `n_init` will change from 10 to 'auto' in 1.4. Set the value of `n_init` explicitly to suppress the warning\n",
            "  super()._check_params_vs_input(X, default_n_init=10)\n",
            "/usr/local/lib/python3.10/dist-packages/sklearn/cluster/_kmeans.py:1416: FutureWarning: The default value of `n_init` will change from 10 to 'auto' in 1.4. Set the value of `n_init` explicitly to suppress the warning\n",
            "  super()._check_params_vs_input(X, default_n_init=10)\n",
            "/usr/local/lib/python3.10/dist-packages/sklearn/cluster/_kmeans.py:1416: FutureWarning: The default value of `n_init` will change from 10 to 'auto' in 1.4. Set the value of `n_init` explicitly to suppress the warning\n",
            "  super()._check_params_vs_input(X, default_n_init=10)\n",
            "/usr/local/lib/python3.10/dist-packages/sklearn/cluster/_kmeans.py:1416: FutureWarning: The default value of `n_init` will change from 10 to 'auto' in 1.4. Set the value of `n_init` explicitly to suppress the warning\n",
            "  super()._check_params_vs_input(X, default_n_init=10)\n"
          ]
        },
        {
          "output_type": "stream",
          "name": "stdout",
          "text": [
            "1 2121.9188598614423\n",
            "2 1288.0536563624098\n",
            "3 839.3481642579577\n",
            "4 662.1356355826755\n",
            "5 558.1251017572718\n",
            "6 486.6148070590754\n",
            "7 452.5275312623699\n",
            "8 394.816911588805\n",
            "9 371.0630361300615\n",
            "10 309.0953467492052\n"
          ]
        },
        {
          "output_type": "display_data",
          "data": {
            "text/plain": [
              "<Figure size 640x480 with 1 Axes>"
            ],
            "image/png": "[encoded data removed]"
          },
          "metadata": {}
        }
      ]
    },
    {
      "cell_type": "code",
      "source": [],
      "metadata": {
        "id": "hH2xs4F5prco"
      },
      "execution_count": null,
      "outputs": []
    }
  ]
}