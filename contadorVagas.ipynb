{
  "nbformat": 4,
  "nbformat_minor": 0,
  "metadata": {
    "colab": {
      "provenance": [],
      "authorship_tag": "ABX9TyPOpiBDAD/EguqHYQtWXemG",
      "include_colab_link": true
    },
    "kernelspec": {
      "name": "python3",
      "display_name": "Python 3"
    },
    "language_info": {
      "name": "python"
    }
  },
  "cells": [
    {
      "cell_type": "markdown",
      "metadata": {
        "id": "view-in-github",
        "colab_type": "text"
      },
      "source": [
        "<a href=\"https://colab.research.google.com/github/BiancaFormiga/Python-JS-BigData/blob/Aula-03/contadorVagas.ipynb\" target=\"_parent\"><img src=\"https://colab.research.google.com/assets/colab-badge.svg\" alt=\"Open In Colab\"/></a>"
      ]
    },
    {
      "cell_type": "code",
      "execution_count": null,
      "metadata": {
        "id": "hbp0ZQzQ17OV"
      },
      "outputs": [],
      "source": [
        "import cv2\n",
        "import pickle\n",
        "import numpy as np\n",
        "\n",
        "vagas = []\n",
        "with open('vagas1123.pkl','rb') as arquivo:\n",
        "    vagas = pickle.load(arquivo)\n",
        "\n",
        "video = cv2.VideoCapture('video.mp4') # capturando o vídeo gravado\n",
        "# video = cv2.VideoCapture(0) # capturando o vídeo em tempo real da câmera\n",
        "\n",
        "while True: # transforma imagem capturar em tons de cinza, melhorar qulidade com o rgb, e etc (pré-procesamento da imagem)\n",
        "    check,img = video.read()\n",
        "    imgCinza = cv2.cvtColor(img,cv2.COLOR_BGR2GRAY)\n",
        "    imgTh = cv2.adaptiveThreshold(imgCinza,255,cv2.ADAPTIVE_THRESH_GAUSSIAN_C,cv2.THRESH_BINARY_INV,25,16)\n",
        "    imgMedian = cv2.medianBlur(imgTh,5)\n",
        "    kernel = np.ones((3,3),np.int8)\n",
        "    imgDil = cv2.dilate(imgMedian,kernel)\n",
        "\n",
        "\n",
        "    vagasAbertas = 0\n",
        "\n",
        "    for x, y, w, h in vagas:\n",
        "        vaga = imgDil[y:y+h,x:x+w]\n",
        "        #cv2.rectangle(img, (x,y),(x+w,y+h),(255))\n",
        "        count= cv2.countNonZero(vaga)\n",
        "        cv2.putText(img,str(count),(x,y+h-10),cv2.FONT_HERSHEY_SIMPLEX,0.5,(255,255,255),1)\n",
        "\n",
        "        if count < 900: # se a quantidade de pixels for menor que 900 a vaga esta em aberto\n",
        "            cv2.rectangle(img, (x, y), (x + w, y + h), (0,255, 0), 2)\n",
        "            vagasAbertas +=1\n",
        "        else:\n",
        "            cv2.rectangle(img, (x, y), (x + w, y + h), (0,0, 255), 2)\n",
        "\n",
        "        cv2.rectangle(img, (90,0), (415,60), (0,255,0), -1)\n",
        "        cv2.putText(img, f'LIVRE: {vagasAbertas}/69', (95, 45), cv2.FONT_HERSHEY_SIMPLEX, 1.5, (255, 255, 255), 5)\n",
        "\n",
        "\n",
        "    cv2.imshow('video',img)\n",
        "    cv2.waitKey(25)"
      ]
    }
  ]
}