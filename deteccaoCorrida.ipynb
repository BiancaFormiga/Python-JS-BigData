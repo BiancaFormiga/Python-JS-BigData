{
  "nbformat": 4,
  "nbformat_minor": 0,
  "metadata": {
    "colab": {
      "provenance": [],
      "authorship_tag": "ABX9TyNBMQPsplnmcud2O8ZOcrQN",
      "include_colab_link": true
    },
    "kernelspec": {
      "name": "python3",
      "display_name": "Python 3"
    },
    "language_info": {
      "name": "python"
    }
  },
  "cells": [
    {
      "cell_type": "markdown",
      "metadata": {
        "id": "view-in-github",
        "colab_type": "text"
      },
      "source": [
        "<a href=\"https://colab.research.google.com/github/BiancaFormiga/Python-JS-BigData/blob/Aula-03/deteccaoCorrida.ipynb\" target=\"_parent\"><img src=\"https://colab.research.google.com/assets/colab-badge.svg\" alt=\"Open In Colab\"/></a>"
      ]
    },
    {
      "cell_type": "code",
      "execution_count": null,
      "metadata": {
        "id": "ie8OBTBgLsds"
      },
      "outputs": [],
      "source": [
        "import cv2\n",
        "import mediapipe as mp\n",
        "\n",
        "# Inicializar o vídeo\n",
        "video = cv2.VideoCapture('correr.mp4.mov')\n",
        "\n",
        "# Verificar se o vídeo foi carregado corretamente\n",
        "if not video.isOpened():\n",
        "    print(\"Erro ao abrir o vídeo.\")\n",
        "    exit()\n",
        "\n",
        "# Inicializar o MediaPipe Pose\n",
        "pose = mp.solutions.pose\n",
        "Pose = pose.Pose(min_tracking_confidence=0.5, min_detection_confidence=0.5)\n",
        "draw = mp.solutions.drawing_utils\n",
        "\n",
        "while True:\n",
        "    success, img = video.read()\n",
        "\n",
        "    # Verificar se o frame foi lido corretamente\n",
        "    if not success:\n",
        "        print(\"Erro ao ler o frame do vídeo ou fim do vídeo.\")\n",
        "        break\n",
        "\n",
        "    # Redimensionar o frame para 1080p (Full HD) ou uma resolução menor\n",
        "    img = cv2.resize(img, (1920, 1080))\n",
        "\n",
        "    # Converter o frame para RGB\n",
        "    videoRGB = cv2.cvtColor(img, cv2.COLOR_BGR2RGB)\n",
        "    results = Pose.process(videoRGB)\n",
        "    points = results.pose_landmarks\n",
        "\n",
        "    # Desenhar as marcas no frame\n",
        "    if points:\n",
        "        draw.draw_landmarks(img, points, pose.POSE_CONNECTIONS)\n",
        "\n",
        "    # Exibir o frame\n",
        "    cv2.imshow('Resultado', img)\n",
        "\n",
        "    # Esperar até 1 ms para a tecla 'q' para sair\n",
        "    if cv2.waitKey(1) & 0xFF == ord('q'):\n",
        "        break\n",
        "\n",
        "# Liberar o vídeo e fechar todas as janelas\n",
        "video.release()\n",
        "cv2.destroyAllWindows()"
      ]
    }
  ]
}